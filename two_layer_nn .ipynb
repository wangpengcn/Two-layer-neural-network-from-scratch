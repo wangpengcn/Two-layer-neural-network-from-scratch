{
 "cells": [
  {
   "cell_type": "markdown",
   "metadata": {
    "colab_type": "text",
    "id": "5ORgixuhNQRb"
   },
   "source": [
    "## **Build a two-layer neural network from scratch**"
   ]
  },
  {
   "cell_type": "code",
   "execution_count": 6,
   "metadata": {
    "colab": {},
    "colab_type": "code",
    "id": "5fQmG6zaNQRd"
   },
   "outputs": [],
   "source": [
    "import numpy as np\n",
    "import matplotlib.pyplot as plt"
   ]
  },
  {
   "cell_type": "code",
   "execution_count": 7,
   "metadata": {
    "colab": {},
    "colab_type": "code",
    "id": "ylYKL82NNQRl"
   },
   "outputs": [],
   "source": [
    "class SimpleNN:\n",
    "    # initialize parameters\n",
    "    def __init__(self, x, y):           \n",
    "        self.labels = y\n",
    "        self.features = x.shape[1]\n",
    "        self.hidden_nodes = 4 # it's a simple network\n",
    "        self.num_labels = 1 # only produce binary predictions i.e. 0 or 1\n",
    "        # randomly initialize weights and biases\n",
    "        self.w1 = np.random.randn(self.features, self.hidden_nodes)\n",
    "        self.b1 = np.random.randn(self.hidden_nodes)\n",
    "        self.w2 = np.random.randn(self.hidden_nodes, self.num_labels)\n",
    "        self.b2 = np.random.randn(self.num_labels)        \n",
    "    \n",
    "    # activation and derivative function \n",
    "    def sigmoid(self, z, deriv=False):        \n",
    "        if (deriv==True):\n",
    "            return z*(1-z)\n",
    "        return 1 / (1 + np.exp(-z))\n",
    "    \n",
    "    def forward_pass(self):\n",
    "        # input layer\n",
    "        self.layer0 = x\n",
    "        # hidden layer\n",
    "        self.layer1 = self.sigmoid (self.layer0.dot(self.w1) + self.b1) \n",
    "        # output layer i.e. predictions\n",
    "        self.layer2 = self.sigmoid (self.layer1.dot(self.w2) + self.b2) \n",
    "    \n",
    "    def back_prop(self):     \n",
    "        # prediction error from layer2/output layer\n",
    "        error2 = self.layer2 - self.labels\n",
    "        # direction to move towards the correct value (error2 * derivative)\n",
    "        dw2 = error2*self.sigmoid(self.layer2, deriv=True) \n",
    "        # how much did layer1 contribute to the output error i.e. error2\n",
    "        error1 = dw2.dot(self.w2.T)\n",
    "        # direction to move towards the correct value (error1 * derivative)\n",
    "        dw1 = error1*self.sigmoid(self.layer1, deriv=True) \n",
    "        # update weights and biases\n",
    "        self.w2 -= self.layer1.T.dot(dw2)\n",
    "        self.b2 -= (dw2).sum(axis=0)    \n",
    "        self.w1 -= self.layer0.T.dot(dw1)\n",
    "        self.b1 -= (dw1).sum(axis=0)\n",
    "        \n",
    "    # log loss\n",
    "    def loss_fn(self):\n",
    "        return np.sum(-self.labels * np.log(self.layer2))"
   ]
  },
  {
   "cell_type": "code",
   "execution_count": 8,
   "metadata": {
    "colab": {},
    "colab_type": "code",
    "id": "FhqU0BaVNQRs"
   },
   "outputs": [],
   "source": [
    "x = np.array([    [0,0,1,1],\n",
    "                  [0,0,0,1],\n",
    "                  [0,1,0,1],\n",
    "                  [1,0,1,0],\n",
    "                  [1,1,1,0],\n",
    "                  [1,1,1,1]\n",
    "                ])\n",
    "y=np.array([[0,0,0,1,1,1]]).T\n",
    "np.random.seed(1)\n",
    "# capture losses every 100 epochs\n",
    "losses = []"
   ]
  },
  {
   "cell_type": "code",
   "execution_count": 9,
   "metadata": {
    "colab": {},
    "colab_type": "code",
    "id": "t0vr36nKNQRx",
    "outputId": "a446b2e1-2834-4a26-eaaf-5a6dfaf8b754"
   },
   "outputs": [
    {
     "name": "stdout",
     "output_type": "stream",
     "text": [
      "Epoch:    1 Log loss: 1.119\n",
      "Epoch:  100 Log loss: 0.268\n",
      "Epoch:  200 Log loss: 0.142\n",
      "Epoch:  300 Log loss: 0.104\n",
      "Epoch:  400 Log loss: 0.084\n",
      "Epoch:  500 Log loss: 0.072\n",
      "Epoch:  600 Log loss: 0.064\n",
      "Epoch:  700 Log loss: 0.057\n",
      "Epoch:  800 Log loss: 0.053\n",
      "Epoch:  900 Log loss: 0.049\n",
      "Epoch: 1000 Log loss: 0.046\n"
     ]
    }
   ],
   "source": [
    "simpleNN = SimpleNN(x,y)\n",
    "for epoch in range(1001):    \n",
    "    # forward pass\n",
    "    simpleNN.forward_pass();    \n",
    "    # backward prop\n",
    "    simpleNN.back_prop(); \n",
    "    if (epoch==0) | ((epoch+1) % 100 == 0):\n",
    "        loss = simpleNN.loss_fn()\n",
    "        print('Epoch: {:4} Log loss: {:.3f}'.format(epoch+1, loss))\n",
    "        losses.append(loss)"
   ]
  },
  {
   "cell_type": "code",
   "execution_count": 10,
   "metadata": {
    "colab": {},
    "colab_type": "code",
    "id": "Fooxj4fDNQR6",
    "outputId": "d3105f3c-9662-463f-a618-8cc97e43a544"
   },
   "outputs": [
    {
     "data": {
      "image/png": "[encoded data removed]",
      "text/plain": [
       "<matplotlib.figure.Figure at 0x2d67c4cbe10>"
      ]
     },
     "metadata": {},
     "output_type": "display_data"
    }
   ],
   "source": [
    "plt.plot(losses)\n",
    "plt.ylabel('Log loss')\n",
    "plt.xlabel('Epoch')\n",
    "plt.xticks(range(0,11), 100*np.linspace(0, 10, num=11, dtype=int))\n",
    "plt.show()"
   ]
  }
 ],
 "metadata": {
  "colab": {
   "collapsed_sections": [],
   "name": "two_layer_nn.ipynb",
   "provenance": [],
   "version": "0.3.2"
  },
  "kernelspec": {
   "display_name": "Python 3",
   "language": "python",
   "name": "python3"
  },
  "language_info": {
   "codemirror_mode": {
    "name": "ipython",
    "version": 3
   },
   "file_extension": ".py",
   "mimetype": "text/x-python",
   "name": "python",
   "nbconvert_exporter": "python",
   "pygments_lexer": "ipython3",
   "version": "3.6.4"
  }
 },
 "nbformat": 4,
 "nbformat_minor": 1
}
